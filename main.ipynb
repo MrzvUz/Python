{
 "metadata": {
  "language_info": {
   "codemirror_mode": {
    "name": "ipython",
    "version": 3
   },
   "file_extension": ".py",
   "mimetype": "text/x-python",
   "name": "python",
   "nbconvert_exporter": "python",
   "pygments_lexer": "ipython3",
   "version": "3.9.5"
  },
  "orig_nbformat": 2,
  "kernelspec": {
   "name": "python3",
   "display_name": "Python 3",
   "language": "python"
  }
 },
 "nbformat": 4,
 "nbformat_minor": 2,
 "cells": [
  {
   "cell_type": "code",
   "execution_count": 1,
   "metadata": {},
   "outputs": [
    {
     "output_type": "stream",
     "name": "stdout",
     "text": [
      "You're learning\n"
     ]
    }
   ],
   "source": [
    "is_learning = True\n",
    "\n",
    "while is_learning:\n",
    "    print(\"You're learning\")\n",
    "    break"
   ]
  },
  {
   "cell_type": "code",
   "execution_count": 1,
   "metadata": {},
   "outputs": [],
   "source": [
    "def greet():\n",
    "    name = input(\"Enter your name: \")\n",
    "    print(f\"Hello, {name}\")"
   ]
  },
  {
   "cell_type": "code",
   "execution_count": 2,
   "metadata": {},
   "outputs": [
    {
     "output_type": "stream",
     "name": "stdout",
     "text": [
      "Hello, Ali\n"
     ]
    }
   ],
   "source": [
    "greet()"
   ]
  },
  {
   "cell_type": "code",
   "execution_count": 12,
   "metadata": {},
   "outputs": [],
   "source": [
    "car = {\n",
    "    \"Make\" : \"Ford\",\n",
    "    \"Model\" : \"Fiesta\",\n",
    "    \"Mileage\" : 23000,\n",
    "    \"Fuel_Consumed\" : 460\n",
    "}\n",
    "def calculate_mpg():\n",
    "    mpg = car[\"Mileage\"] / car[\"Fuel_Consumed\"]\n",
    "    name = f\"{car['Make']}, model {car['Model']}\"\n",
    "    print(f\"{name} does {mpg} miles per gallon.\")"
   ]
  },
  {
   "cell_type": "code",
   "execution_count": 13,
   "metadata": {},
   "outputs": [
    {
     "output_type": "stream",
     "name": "stdout",
     "text": [
      "Ford, model Fiesta does 50.0 miles per gallon.\n"
     ]
    }
   ],
   "source": [
    "calculate_mpg()"
   ]
  },
  {
   "cell_type": "code",
   "execution_count": null,
   "metadata": {},
   "outputs": [],
   "source": []
  }
 ]
}
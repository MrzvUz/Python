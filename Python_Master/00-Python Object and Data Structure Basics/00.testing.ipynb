{
 "metadata": {
  "language_info": {
   "codemirror_mode": {
    "name": "ipython",
    "version": 3
   },
   "file_extension": ".py",
   "mimetype": "text/x-python",
   "name": "python",
   "nbconvert_exporter": "python",
   "pygments_lexer": "ipython3",
   "version": "3.8.5-final"
  },
  "orig_nbformat": 2,
  "kernelspec": {
   "name": "python385jvsc74a57bd031f2aee4e71d21fbe5cf8b01ff0e069b9275f58929596ceb00d14d90e3e16cd6",
   "display_name": "Python 3.8.5 64-bit"
  },
  "metadata": {
   "interpreter": {
    "hash": "31f2aee4e71d21fbe5cf8b01ff0e069b9275f58929596ceb00d14d90e3e16cd6"
   }
  }
 },
 "nbformat": 4,
 "nbformat_minor": 2,
 "cells": [
  {
   "cell_type": "code",
   "execution_count": 43,
   "metadata": {},
   "outputs": [
    {
     "output_type": "stream",
     "name": "stdout",
     "text": [
      "Overwriting myfile.txt\n"
     ]
    }
   ],
   "source": [
    "%%writefile myfile.txt\n",
    "ONE ON FIRST\n",
    "TWO ON SECOND\n",
    "THREE ON THIRD"
   ]
  },
  {
   "cell_type": "code",
   "execution_count": 24,
   "metadata": {},
   "outputs": [
    {
     "output_type": "stream",
     "name": "stdout",
     "text": [
      "ONE ON FIRST\nTWO ON SECOND\nTHREE ON THIRD\n\n"
     ]
    }
   ],
   "source": [
    "with open(\"myfile.txt\", mode=\"r\") as f:\n",
    "    print(f.read())"
   ]
  },
  {
   "cell_type": "code",
   "execution_count": 44,
   "metadata": {},
   "outputs": [],
   "source": [
    "with open(\"myfile.txt\", mode=\"a\") as f:\n",
    "    f.write(\"FOUR ON FORTH\")\n"
   ]
  },
  {
   "cell_type": "code",
   "execution_count": 32,
   "metadata": {},
   "outputs": [
    {
     "output_type": "stream",
     "name": "stdout",
     "text": [
      "ONE ON FIRST\nTWO ON SECOND\nTHREE ON THIRD\nFOUR ON FORTHFOUR ON FORTHFOUR ON FORTHFOUR ON FORTHFOUR ON FORTHFOUR ON FORTH\n"
     ]
    }
   ],
   "source": [
    "with open(\"myfile.txt\", mode=\"r\") as f:\n",
    "    print(f.read())"
   ]
  },
  {
   "cell_type": "code",
   "execution_count": 33,
   "metadata": {},
   "outputs": [
    {
     "output_type": "stream",
     "name": "stdout",
     "text": [
      "ONE ON FIRST\nTWO ON SECOND\nTHREE ON THIRD\nFOUR ON FORTHFOUR ON FORTHFOUR ON FORTHFOUR ON FORTHFOUR ON FORTHFOUR ON FORTH\n"
     ]
    }
   ],
   "source": [
    "with open(\"myfile.txt\", mode=\"r\") as f:\n",
    "    print(f.read())"
   ]
  },
  {
   "cell_type": "code",
   "execution_count": 45,
   "metadata": {},
   "outputs": [
    {
     "output_type": "stream",
     "name": "stdout",
     "text": [
      "ONE ON FIRST\nTWO ON SECOND\nTHREE ON THIRD\nFOUR ON FORTH\n"
     ]
    }
   ],
   "source": [
    "with open(\"myfile.txt\", mode=\"r\") as f:\n",
    "    print(f.read())"
   ]
  }
 ]
}